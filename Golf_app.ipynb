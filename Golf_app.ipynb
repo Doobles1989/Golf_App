
from flask import Flask, request, jsonify
from flask_socketio import SocketIO
import requests
import numpy as np
from xgboost import XGBClassifier

# Flask app and SocketIO setup
app = Flask(__name__)
socketio = SocketIO(app, cors_allowed_origins="*")

# Dummy model setup
model = XGBClassifier()
# Example training data: [strokes, holes, temperature, precipitation]
X = np.array([[10, 2, 75, 0], [5, 1, 85, 0], [7, 3, 78, 0.1]])
y = np.array([1, 0, 0])
model.fit(X, y)

# Helper function for weather data
def get_weather_forecast(latitude, longitude):
    response = requests.get(
        f'https://api.open-meteo.com/v1/forecast?latitude={latitude}&longitude={longitude}&hourly=temperature_2m,precipitation'
    )
    data = response.json()
    temp = data['hourly']['temperature_2m'][0]
    precip = data['hourly']['precipitation'][0]
    return temp, precip

# API endpoint to update score
@app.route('/update_score', methods=['POST'])
def update_score():
    data = request.get_json()
    player_id = data['player_id']
    strokes = data['strokes']
    holes = data['holes']
    latitude = data['latitude']
    longitude = data['longitude']

    # Fetch weather data
    temperature, precipitation = get_weather_forecast(latitude, longitude)

    # Make prediction
    prediction = model.predict_proba(np.array([[strokes, holes, temperature, precipitation]]))[0][1]

    # Emit updated score and prediction
    socketio.emit('score_update', {
        'player_id': player_id,
        'strokes': strokes,
        'holes': holes,
        'temperature': temperature,
        'precipitation': precipitation,
        'winning_probability': prediction
    })
    return jsonify({'status': 'score updated', 'prediction': prediction})

# Run the Flask app
if __name__ == '__main__':
    socketio.run(app, debug=True)

import React, { useEffect, useState } from 'react';
import { View, Text, Button, StyleSheet, FlatList } from 'react-native';
import io from 'socket.io-client';
import firebase from '@react-native-firebase/app';
import '@react-native-firebase/database';

// Firebase configuration
const firebaseConfig = {
  apiKey: "YOUR_API_KEY",
  authDomain: "YOUR_AUTH_DOMAIN",
  databaseURL: "YOUR_DATABASE_URL",
  projectId: "YOUR_PROJECT_ID",
  storageBucket: "YOUR_STORAGE_BUCKET",
  messagingSenderId: "YOUR_MESSAGING_SENDER_ID",
  appId: "YOUR_APP_ID",
};

// Initialize Firebase
if (!firebase.apps.length) {
  firebase.initializeApp(firebaseConfig);
}

// Socket.IO setup
const socket = io('http://YOUR_BACKEND_URL:5000');

const App = () => {
  const [scores, setScores] = useState([]);

  useEffect(() => {
    // Listen for score updates from Socket.IO
    socket.on('score_update', (data) => {
      setScores((prevScores) => [...prevScores, data]);
    });

    return () => {
      socket.off('score_update');
    };
  }, []);

  const handleTestScoreUpdate = () => {
    // Emit a test score update
    socket.emit('update_score', {
      player_id: 1,
      strokes: Math.floor(Math.random() * 10),
      holes: Math.floor(Math.random() * 18),
      latitude: 40.7128,
      longitude: -74.0060,
    });
  };

  return (
    <View style={styles.container}>
      <Text style={styles.title}>Live Golf Tracker</Text>
      <FlatList
        data={scores}
        keyExtractor={(item, index) => index.toString()}
        renderItem={({ item }) => (
          <View style={styles.scoreCard}>
            <Text>Player {item.player_id}</Text>
            <Text>Strokes: {item.strokes}</Text>
            <Text>Holes: {item.holes}</Text>
            <Text>Temp: {item.temperature}°C</Text>
            <Text>Rain: {item.precipitation} mm</Text>
            <Text>Win Prob: {(item.winning_probability * 100).toFixed(2)}%</Text>
          </View>
        )}
      />
      <Button title="Simulate Score Update" onPress={handleTestScoreUpdate} />
    </View>
  );
};

const styles = StyleSheet.create({
  container: {
    flex: 1,
    padding: 20,
    backgroundColor: '#f8f9fa',
  },
  title: {
    fontSize: 24,
    fontWeight: 'bold',
    marginBottom: 20,
  },
  scoreCard: {
    padding: 15,
    marginBottom: 10,
    backgroundColor: '#ffffff',
    borderRadius: 8,
    elevation: 2,
  },
});

export default App;
